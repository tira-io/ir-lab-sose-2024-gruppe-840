{
 "cells": [
  {
   "cell_type": "markdown",
   "metadata": {},
   "source": [
    "# Import All Libaries"
   ]
  },
  {
   "cell_type": "code",
   "execution_count": 1,
   "metadata": {},
   "outputs": [
    {
     "name": "stderr",
     "output_type": "stream",
     "text": [
      "PyTerrier 0.10.0 has loaded Terrier 5.8 (built by craigm on 2023-11-01 18:05) and terrier-helper 0.0.8\n",
      "\n",
      "No etc/terrier.properties, using terrier.default.properties for bootstrap configuration.\n"
     ]
    }
   ],
   "source": [
    "# Imports\n",
    "from tira.third_party_integrations import ensure_pyterrier_is_loaded, persist_and_normalize_run\n",
    "from tira.rest_api_client import Client\n",
    "ensure_pyterrier_is_loaded()\n",
    "\n",
    "import pyterrier as pt\n",
    "from jnius import autoclass\n",
    "\n",
    "import math\n",
    "\n",
    "# Create a REST client to the TIRA platform for retrieving the pre-indexed data.\n",
    "tira = Client()"
   ]
  },
  {
   "cell_type": "markdown",
   "metadata": {},
   "source": [
    "# Load the Dataset and the Index"
   ]
  },
  {
   "cell_type": "code",
   "execution_count": 2,
   "metadata": {},
   "outputs": [],
   "source": [
    "# The dataset: the union of the IR Anthology and the ACL Anthology\n",
    "# This line creates an IRDSDataset object and registers it under the name provided as an argument.\n",
    "dataset = 'ir-acl-anthology-20240504-training'\n",
    "pt_dataset = pt.get_dataset(f'irds:ir-lab-sose-2024/{dataset}')\n",
    "#bm25 = tira.pt.from_submission('ir-benchmarks/tira-ir-starter/BM25 Re-Rank (tira-ir-starter-pyterrier)', dataset)\n",
    "\n",
    "# A (pre-built) PyTerrier index loaded from TIRA\n",
    "index = tira.pt.index('ir-lab-sose-2024/tira-ir-starter/Index (tira-ir-starter-pyterrier)', pt_dataset)\n",
    "bm25 = pt.BatchRetrieve(index, wmodel=\"BM25\")"
   ]
  },
  {
   "cell_type": "markdown",
   "metadata": {},
   "source": [
    "## Stopwords"
   ]
  },
  {
   "cell_type": "code",
   "execution_count": 3,
   "metadata": {},
   "outputs": [
    {
     "name": "stderr",
     "output_type": "stream",
     "text": [
      "ir-lab-sose-2024/ir-acl-anthology-20240504-training documents:  71%|███████   | 89806/126958 [00:21<00:05, 6597.26it/s]"
     ]
    },
    {
     "name": "stdout",
     "output_type": "stream",
     "text": [
      "15:27:11.469 [ForkJoinPool-1-worker-3] WARN org.terrier.structures.indexing.Indexer - Adding an empty document to the index (2020.mir_conference-2020.1) - further warnings are suppressed\n"
     ]
    },
    {
     "name": "stderr",
     "output_type": "stream",
     "text": [
      "ir-lab-sose-2024/ir-acl-anthology-20240504-training documents: 100%|██████████| 126958/126958 [00:27<00:00, 4677.43it/s] \n"
     ]
    },
    {
     "name": "stdout",
     "output_type": "stream",
     "text": [
      "15:27:20.119 [ForkJoinPool-1-worker-3] WARN org.terrier.structures.indexing.Indexer - Indexed 3 empty documents\n"
     ]
    }
   ],
   "source": [
    "def create_index(documents, stopwords):\n",
    "    indexer = pt.IterDictIndexer(\"/tmp/index\", overwrite=True, meta={'docno': 100, 'text': 20480}, stopwords=customStopwords)\n",
    "    index_ref = indexer.index(documents)\n",
    "    return pt.IndexFactory.of(index_ref)\n",
    "\n",
    "customStopwords =[\n",
    "    'i', 'me', 'my', 'myself', 'we', 'our', 'ours', 'ourselves', 'you', 'your', 'yours', \n",
    "    'yourself', 'yourselves', 'he', 'him', 'his', 'himself', 'she', 'her', 'hers', 'herself', \n",
    "    'it', 'its', 'itself', 'they', 'them', 'their', 'theirs', 'themselves', 'what', 'which', \n",
    "    'who', 'whom', 'this', 'that', 'these', 'those', 'am', 'is', 'are', 'was', 'were', 'be', \n",
    "    'been', 'being', 'have', 'has', 'had', 'having', 'do', 'does', 'did', 'doing', 'a', 'an', \n",
    "    'the', 'and', 'but', 'if', 'or', 'because', 'as', 'until', 'while', 'of', 'at', 'by', \n",
    "    'for', 'with', 'about', 'against', 'between', 'into', 'through', 'during', 'before', \n",
    "    'after', 'above', 'below', 'to', 'from', 'up', 'down', 'in', 'out', 'on', 'off', 'over', \n",
    "    'under', 'again', 'further', 'then', 'once', 'here', 'there', 'when', 'where', 'why', \n",
    "    'how', 'all', 'any', 'both', 'each', 'few', 'more', 'most', 'other', 'some', 'such', \n",
    "    'no', 'nor', 'not', 'only', 'own', 'same', 'so', 'than', 'too', 'very', 's', 't', 'can', \n",
    "    'will', 'just', 'don', 'should', 'now', 'e', 'n', 'd', 'o', 'c', 'r'\n",
    "]\n",
    "\n",
    "index = create_index(pt_dataset.get_corpus_iter(), customStopwords)\n",
    "\n",
    "bm25_stopwords = pt.BatchRetrieve(index, wmodel=\"BM25\")"
   ]
  },
  {
   "cell_type": "markdown",
   "metadata": {},
   "source": [
    "## Query Expansion with Large Language Models"
   ]
  },
  {
   "cell_type": "code",
   "execution_count": 4,
   "metadata": {},
   "outputs": [],
   "source": [
    "bm25_rm3 = bm25 >> pt.rewrite.RM3(index) >> bm25\n",
    "bm25_kl = bm25 >> pt.rewrite.KLQueryExpansion(index) >> bm25"
   ]
  },
  {
   "cell_type": "code",
   "execution_count": 5,
   "metadata": {},
   "outputs": [],
   "source": [
    "# llm expansions with gpt\n",
    "gpt_cot = tira.pt.transform_queries('workshop-on-open-web-search/tu-dresden-03/qe-gpt3.5-cot', dataset, prefix='llm_expansion_')\n",
    "gpt_sq_fs = tira.pt.transform_queries('workshop-on-open-web-search/tu-dresden-03/qe-gpt3.5-sq-fs', dataset, prefix='llm_expansion_')\n",
    "gpt_sq_zs = tira.pt.transform_queries('ir-benchmarks/tu-dresden-03/qe-gpt3.5-sq-zs', dataset, prefix='llm_expansion_')\n",
    "\n",
    "# llm expansions with llama\n",
    "llama_cot = tira.pt.transform_queries('ir-benchmarks/tu-dresden-03/qe-llama-cot', dataset, prefix='llm_expansion_')\n",
    "llama_sq_fs = tira.pt.transform_queries('ir-benchmarks/tu-dresden-03/qe-llama-sq-fs', dataset, prefix='llm_expansion_')\n",
    "llama_sq_zs = tira.pt.transform_queries('ir-benchmarks/tu-dresden-03/qe-llama-sq-zs', dataset, prefix='llm_expansion_')\n",
    "\n",
    "# llm expansions with flan-ul2\n",
    "flan_cot = tira.pt.transform_queries('ir-benchmarks/tu-dresden-03/qe-flan-ul2-cot', dataset, prefix='llm_expansion_')\n",
    "flan_sq_fs = tira.pt.transform_queries('ir-benchmarks/tu-dresden-03/qe-flan-ul2-sq-fs', dataset, prefix='llm_expansion_')\n",
    "flan_sq_zs = tira.pt.transform_queries('ir-benchmarks/tu-dresden-03/qe-flan-ul2-sq-zs', dataset, prefix='llm_expansion_')"
   ]
  },
  {
   "cell_type": "code",
   "execution_count": 6,
   "metadata": {},
   "outputs": [
    {
     "name": "stderr",
     "output_type": "stream",
     "text": [
      "ir-lab-sose-2024/ir-acl-anthology-20240504-training documents: 100%|██████████| 126958/126958 [00:02<00:00, 53580.96it/s]\n"
     ]
    }
   ],
   "source": [
    "tokeniser = pt.autoclass(\"org.terrier.indexing.tokenisation.Tokeniser\").getTokeniser()\n",
    "\n",
    "documents = []\n",
    "for doc in pt_dataset.get_corpus_iter():\n",
    "        documents.append({\n",
    "        'docno': doc['docno'],\n",
    "        'text': doc['text'],\n",
    "})   \n",
    "\n",
    "def pt_tokenize(text):\n",
    "    return ' '.join(tokeniser.getTokens(text))\n",
    "\n",
    "# we wrap this into an pyterrier transformer\n",
    "# Documentation: https://pyterrier.readthedocs.io/en/latest/apply.html\n",
    "\n",
    "def calculate_tf_idf(term, doc_text, index):\n",
    "    # Implement your TF-IDF calculation logic here\n",
    "    # Example placeholder implementation:\n",
    "    tf = doc_text.lower().count(term.lower()) / len(doc_text.split())\n",
    "    #print(tf)\n",
    "    num_docs = index.getCollectionStatistics().getNumberOfDocuments()\n",
    "    lexicon = index.getLexicon()\n",
    "    entry = lexicon.getLexiconEntry(term.lower())\n",
    "    doc_freq = entry.getDocumentFrequency() if entry is not None else 0\n",
    "    idf = math.log((num_docs + 1) / (doc_freq + 1)) + 1\n",
    "\n",
    "    #print(tf * idf)\n",
    "    return tf * idf\n",
    "\n",
    "# Define a function to retrieve top documents and extract terms with scores\n",
    "def retrieve_top_docs_terms(query, num_docs=10, num_terms=5):\n",
    "    # Annahme: bm25 ist ein BatchRetrieve-Objekt\n",
    "    from jnius import autoclass\n",
    "    tokeniser = autoclass(\"org.terrier.indexing.tokenisation.Tokeniser\").getTokeniser()\n",
    "    query = \" \".join(tokeniser.getTokens(query))\n",
    "    query_results = bm25.search(query)\n",
    "    top_docs = query_results.head(num_docs)['docid'].tolist()\n",
    "    terms_scores = {}\n",
    "    \n",
    "    for docid in top_docs:\n",
    "        \n",
    "        doc_text = documents[docid]['text']\n",
    "        doc_terms = pt_tokenize(doc_text).split()\n",
    "        doc_score = query_results[query_results['docid'] == docid]['score'].values[0]\n",
    "        for x in range(10):\n",
    "            for term in doc_terms:\n",
    "                if term in customStopwords:\n",
    "                    doc_terms.remove(term)\n",
    "            x += 1\n",
    "\n",
    "        for term in doc_terms:\n",
    "            if term not in terms_scores:\n",
    "                terms_scores[term] = 0\n",
    "            terms_scores[term] += doc_score * calculate_tf_idf(term, doc_text, index)\n",
    "    \n",
    "    sorted_terms = sorted(terms_scores.items(), key=lambda x: x[1], reverse=True)\n",
    "   \n",
    "    \n",
    "    return [term for term, score in sorted_terms[:num_terms]]\n",
    "        \n",
    "\n",
    "\n",
    "# Function to expand query\n",
    "def expand_query(topic):\n",
    "    original_query = topic['query']\n",
    "    #expanded_terms = retrieve_top_docs_terms(original_query)\n",
    "    llm_query = topic['llm_expansion_query']\n",
    "    #print(\"Test\")\n",
    "   \n",
    "    \n",
    "    #print(llm_query)\n",
    "    \n",
    "    llm_terms = retrieve_top_docs_terms(llm_query)\n",
    "    #print(llm_terms)\n",
    "    \n",
    "    expanded_query = ' '.join([original_query] * 6 + llm_terms)\n",
    "\n",
    "    return pt_tokenize(expanded_query)\n",
    "\n",
    "# Wrapper for PyTerrier query expansion\n",
    "pt_expand_query = pt.apply.query(expand_query)\n"
   ]
  },
  {
   "cell_type": "code",
   "execution_count": 7,
   "metadata": {},
   "outputs": [],
   "source": [
    "pipeline_gpt_cot = (gpt_cot >> pt_expand_query) >> bm25\n",
    "pipeline_gpt_sq_fs = (gpt_sq_fs >> pt_expand_query) >> bm25\n",
    "pipeline_gpt_sq_zs = (gpt_sq_zs >> pt_expand_query) >> bm25\n",
    "\n",
    "pipeline_llama_cot = (llama_cot >> pt_expand_query) >> bm25\n",
    "pipeline_llama_sq_fs = (llama_sq_fs >> pt_expand_query) >> bm25\n",
    "pipeline_llama_sq_zs = (llama_sq_zs >> pt_expand_query) >> bm25\n",
    "\n"
   ]
  },
  {
   "cell_type": "markdown",
   "metadata": {},
   "source": [
    "### Evaluation"
   ]
  },
  {
   "cell_type": "code",
   "execution_count": 10,
   "metadata": {},
   "outputs": [
    {
     "name": "stdout",
     "output_type": "stream",
     "text": [
      "15:28:08.760 [main] WARN org.terrier.querying.RM1 - Did not identify any usable candidate expansion terms from docid 125137 among 6 possibilities\n",
      "15:28:09.058 [main] WARN org.terrier.querying.RM1 - Did not identify any usable candidate expansion terms from docid 116910 among 5 possibilities\n"
     ]
    },
    {
     "data": {
      "text/html": [
       "<div>\n",
       "<style scoped>\n",
       "    .dataframe tbody tr th:only-of-type {\n",
       "        vertical-align: middle;\n",
       "    }\n",
       "\n",
       "    .dataframe tbody tr th {\n",
       "        vertical-align: top;\n",
       "    }\n",
       "\n",
       "    .dataframe thead th {\n",
       "        text-align: right;\n",
       "    }\n",
       "</style>\n",
       "<table border=\"1\" class=\"dataframe\">\n",
       "  <thead>\n",
       "    <tr style=\"text-align: right;\">\n",
       "      <th></th>\n",
       "      <th>name</th>\n",
       "      <th>recall_1000</th>\n",
       "      <th>ndcg_cut_5</th>\n",
       "      <th>ndcg_cut.10</th>\n",
       "      <th>recip_rank</th>\n",
       "    </tr>\n",
       "  </thead>\n",
       "  <tbody>\n",
       "    <tr>\n",
       "      <th>0</th>\n",
       "      <td>BM25</td>\n",
       "      <td>0.825376</td>\n",
       "      <td>0.393650</td>\n",
       "      <td>0.374041</td>\n",
       "      <td>0.579877</td>\n",
       "    </tr>\n",
       "    <tr>\n",
       "      <th>1</th>\n",
       "      <td>BM25+RM3</td>\n",
       "      <td>0.807109</td>\n",
       "      <td>0.340194</td>\n",
       "      <td>0.324716</td>\n",
       "      <td>0.543215</td>\n",
       "    </tr>\n",
       "    <tr>\n",
       "      <th>2</th>\n",
       "      <td>BM25+KL</td>\n",
       "      <td>0.821885</td>\n",
       "      <td>0.351864</td>\n",
       "      <td>0.347616</td>\n",
       "      <td>0.549747</td>\n",
       "    </tr>\n",
       "    <tr>\n",
       "      <th>3</th>\n",
       "      <td>BM25+GPT-COT</td>\n",
       "      <td>0.835668</td>\n",
       "      <td>0.390734</td>\n",
       "      <td>0.381299</td>\n",
       "      <td>0.578489</td>\n",
       "    </tr>\n",
       "    <tr>\n",
       "      <th>4</th>\n",
       "      <td>BM25+GPT-SQ-FS</td>\n",
       "      <td>0.839683</td>\n",
       "      <td>0.360956</td>\n",
       "      <td>0.351081</td>\n",
       "      <td>0.563426</td>\n",
       "    </tr>\n",
       "    <tr>\n",
       "      <th>5</th>\n",
       "      <td>BM25+GPT-SQ-ZS</td>\n",
       "      <td>0.841613</td>\n",
       "      <td>0.377770</td>\n",
       "      <td>0.350431</td>\n",
       "      <td>0.555526</td>\n",
       "    </tr>\n",
       "    <tr>\n",
       "      <th>6</th>\n",
       "      <td>BM25+Llama-COT</td>\n",
       "      <td>0.834232</td>\n",
       "      <td>0.369012</td>\n",
       "      <td>0.352517</td>\n",
       "      <td>0.557993</td>\n",
       "    </tr>\n",
       "    <tr>\n",
       "      <th>7</th>\n",
       "      <td>BM25+Llama-SQ-FS</td>\n",
       "      <td>0.842011</td>\n",
       "      <td>0.368341</td>\n",
       "      <td>0.357767</td>\n",
       "      <td>0.532263</td>\n",
       "    </tr>\n",
       "    <tr>\n",
       "      <th>8</th>\n",
       "      <td>BM25+Llama-SQ-ZS</td>\n",
       "      <td>0.838754</td>\n",
       "      <td>0.389072</td>\n",
       "      <td>0.370304</td>\n",
       "      <td>0.589386</td>\n",
       "    </tr>\n",
       "  </tbody>\n",
       "</table>\n",
       "</div>"
      ],
      "text/plain": [
       "               name  recall_1000  ndcg_cut_5  ndcg_cut.10  recip_rank\n",
       "0              BM25     0.825376    0.393650     0.374041    0.579877\n",
       "1          BM25+RM3     0.807109    0.340194     0.324716    0.543215\n",
       "2           BM25+KL     0.821885    0.351864     0.347616    0.549747\n",
       "3      BM25+GPT-COT     0.835668    0.390734     0.381299    0.578489\n",
       "4    BM25+GPT-SQ-FS     0.839683    0.360956     0.351081    0.563426\n",
       "5    BM25+GPT-SQ-ZS     0.841613    0.377770     0.350431    0.555526\n",
       "6    BM25+Llama-COT     0.834232    0.369012     0.352517    0.557993\n",
       "7  BM25+Llama-SQ-FS     0.842011    0.368341     0.357767    0.532263\n",
       "8  BM25+Llama-SQ-ZS     0.838754    0.389072     0.370304    0.589386"
      ]
     },
     "execution_count": 10,
     "metadata": {},
     "output_type": "execute_result"
    }
   ],
   "source": [
    "pt.Experiment(\n",
    "    retr_systems=[bm25, bm25_rm3, bm25_kl, pipeline_gpt_cot, pipeline_gpt_sq_fs, pipeline_gpt_sq_zs, pipeline_llama_cot, pipeline_llama_sq_fs, pipeline_llama_sq_zs],\n",
    "    topics=pt_dataset.get_topics('text'),\n",
    "    qrels=pt_dataset.get_qrels(),\n",
    "    names=['BM25', 'BM25+RM3', 'BM25+KL', 'BM25+GPT-COT', 'BM25+GPT-SQ-FS', 'BM25+GPT-SQ-ZS', 'BM25+Llama-COT', 'BM25+Llama-SQ-FS', 'BM25+Llama-SQ-ZS'],\n",
    "    eval_metrics=['recall_1000', 'ndcg_cut_5', 'ndcg_cut.10', 'recip_rank']\n",
    ")"
   ]
  }
 ],
 "metadata": {
  "kernelspec": {
   "display_name": "Python 3",
   "language": "python",
   "name": "python3"
  },
  "language_info": {
   "codemirror_mode": {
    "name": "ipython",
    "version": 3
   },
   "file_extension": ".py",
   "mimetype": "text/x-python",
   "name": "python",
   "nbconvert_exporter": "python",
   "pygments_lexer": "ipython3",
   "version": "3.10.12"
  }
 },
 "nbformat": 4,
 "nbformat_minor": 2
}
