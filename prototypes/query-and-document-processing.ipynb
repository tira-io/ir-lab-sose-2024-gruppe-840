{
 "cells": [
  {
   "cell_type": "markdown",
   "metadata": {},
   "source": [
    "## Install Dependencies"
   ]
  },
  {
   "cell_type": "code",
   "execution_count": null,
   "metadata": {},
   "outputs": [],
   "source": [
    "!pip3 install python-terrier"
   ]
  },
  {
   "cell_type": "code",
   "execution_count": 13,
   "metadata": {},
   "outputs": [],
   "source": [
    "from tira.third_party_integrations import ensure_pyterrier_is_loaded, persist_and_normalize_run\n",
    "from tira.rest_api_client import Client\n",
    "import pyterrier as pt\n",
    "from tqdm import tqdm\n",
    "import gzip\n",
    "import json"
   ]
  },
  {
   "cell_type": "code",
   "execution_count": 14,
   "metadata": {},
   "outputs": [],
   "source": [
    "ensure_pyterrier_is_loaded()\n",
    "tira = Client()"
   ]
  },
  {
   "cell_type": "markdown",
   "metadata": {},
   "source": [
    "## Load Dataset and Index"
   ]
  },
  {
   "cell_type": "code",
   "execution_count": 15,
   "metadata": {},
   "outputs": [
    {
     "name": "stdout",
     "output_type": "stream",
     "text": [
      "['__class__', '__delattr__', '__dict__', '__dir__', '__doc__', '__eq__', '__format__', '__ge__', '__getattribute__', '__gt__', '__hash__', '__init__', '__init_subclass__', '__le__', '__lt__', '__module__', '__ne__', '__new__', '__reduce__', '__reduce_ex__', '__repr__', '__setattr__', '__sizeof__', '__str__', '__subclasshook__', '__weakref__', '_configure', '_describe_component', '_irds_id', '_irds_ref', 'get_corpus', 'get_corpus_iter', 'get_corpus_lang', 'get_index', 'get_qrels', 'get_results', 'get_topics', 'get_topics_lang', 'get_topicsqrels', 'info_url', 'irds_ref']\n"
     ]
    }
   ],
   "source": [
    "pt_dataset = pt.get_dataset('irds:ir-lab-sose-2024/ir-acl-anthology-20240504-training')\n",
    "index = tira.pt.index('ir-lab-sose-2024/tira-ir-starter/Index (tira-ir-starter-pyterrier)', pt_dataset)\n",
    "#documents = pt_dataset.get??()\n",
    "#print(documents).head(3)\n",
    "print(dir(pt_dataset))"
   ]
  },
  {
   "cell_type": "markdown",
   "metadata": {},
   "source": [
    "## Document Expansion with DocT5Query\n",
    "> https://github.com/castorini/docTTTTTquery\n",
    ">\n",
    "> https://github.com/tira-io/teaching-ir-with-shared-tasks/blob/main/tutorials/tutorial-doc-t5-query.ipynb"
   ]
  },
  {
   "cell_type": "code",
   "execution_count": 17,
   "metadata": {},
   "outputs": [],
   "source": [
    "bm25 = pt.BatchRetrieve(index, wmodel=\"BM25\")\n",
    "# bm25 = tira.pt.from_submission('ir-benchmarks/tira-ir-starter/BM25 Re-Rank (tira-ir-starter-pyterrier)', pt_dataset)"
   ]
  },
  {
   "cell_type": "code",
   "execution_count": 18,
   "metadata": {},
   "outputs": [],
   "source": [
    "def doc_t5_query(dataset):\n",
    "    docs = tira.get_run_output('ir-benchmarks/seanmacavaney/DocT5Query', dataset) + '/documents.jsonl.gz'\n",
    "    with gzip.open(docs, 'rt') as f:\n",
    "        for l in tqdm(f):\n",
    "            l = json.loads(l)\n",
    "            l['text'] = l['querygen']\n",
    "            l['docno'] = l['doc_id']\n",
    "            del l['doc_id']\n",
    "            del l['querygen']\n",
    "            yield l\n",
    "\n",
    "def doc_t5_query_index(dataset):\n",
    "    indexer = pt.IterDictIndexer(\"/tmp/index2\", overwrite=True, meta={'docno': 100, 'text': 20480})\n",
    "    index_ref = indexer.index(doc_t5_query(dataset))\n",
    "    return pt.IndexFactory.of(index_ref)"
   ]
  },
  {
   "cell_type": "code",
   "execution_count": 20,
   "metadata": {},
   "outputs": [
    {
     "ename": "JavaException",
     "evalue": "JVM exception occurred: No IndexLoaders were supported for indexref /tmp/index; It may be your ref has the wrong location. Alternatively, Terrier is misconfigured - did you import the correct package to deal with this indexref? java.lang.UnsupportedOperationException",
     "output_type": "error",
     "traceback": [
      "\u001b[0;31m---------------------------------------------------------------------------\u001b[0m",
      "\u001b[0;31mJavaException\u001b[0m                             Traceback (most recent call last)",
      "Cell \u001b[0;32mIn[20], line 1\u001b[0m\n\u001b[0;32m----> 1\u001b[0m index \u001b[38;5;241m=\u001b[39m \u001b[43mpt\u001b[49m\u001b[38;5;241;43m.\u001b[39;49m\u001b[43mIndexFactory\u001b[49m\u001b[38;5;241;43m.\u001b[39;49m\u001b[43mof\u001b[49m\u001b[43m(\u001b[49m\u001b[38;5;124;43m'\u001b[39;49m\u001b[38;5;124;43m/tmp/index\u001b[39;49m\u001b[38;5;124;43m'\u001b[39;49m\u001b[43m)\u001b[49m\n",
      "File \u001b[0;32m/usr/local/lib/python3.10/dist-packages/pyterrier/bootstrap.py:117\u001b[0m, in \u001b[0;36mIndexFactory.of\u001b[0;34m(indexlike, memory)\u001b[0m\n\u001b[1;32m    115\u001b[0m \u001b[38;5;28;01mif\u001b[39;00m memory \u001b[38;5;129;01mor\u001b[39;00m (\u001b[38;5;28misinstance\u001b[39m(memory, \u001b[38;5;28mlist\u001b[39m) \u001b[38;5;129;01mand\u001b[39;00m \u001b[38;5;28mlen\u001b[39m(memory) \u001b[38;5;241m>\u001b[39m \u001b[38;5;241m0\u001b[39m): \u001b[38;5;66;03m#MEMORY CAN BE A LIST?\u001b[39;00m\n\u001b[1;32m    116\u001b[0m     IOD\u001b[38;5;241m.\u001b[39msetIndexLoadingProfileAsRetrieval(\u001b[38;5;28;01mFalse\u001b[39;00m)\n\u001b[0;32m--> 117\u001b[0m index \u001b[38;5;241m=\u001b[39m \u001b[43mautoclass\u001b[49m\u001b[43m(\u001b[49m\u001b[38;5;124;43m\"\u001b[39;49m\u001b[38;5;124;43morg.terrier.structures.IndexFactory\u001b[39;49m\u001b[38;5;124;43m\"\u001b[39;49m\u001b[43m)\u001b[49m\u001b[38;5;241;43m.\u001b[39;49m\u001b[43mof\u001b[49m\u001b[43m(\u001b[49m\u001b[43mindexlike\u001b[49m\u001b[43m)\u001b[49m\n\u001b[1;32m    119\u001b[0m \u001b[38;5;66;03m# noop if memory is False\u001b[39;00m\n\u001b[1;32m    120\u001b[0m IOD\u001b[38;5;241m.\u001b[39msetIndexLoadingProfileAsRetrieval(load_profile)\n",
      "File \u001b[0;32mjnius/jnius_export_class.pxi:1163\u001b[0m, in \u001b[0;36mjnius.JavaMultipleMethod.__call__\u001b[0;34m()\u001b[0m\n",
      "File \u001b[0;32mjnius/jnius_export_class.pxi:876\u001b[0m, in \u001b[0;36mjnius.JavaMethod.__call__\u001b[0;34m()\u001b[0m\n",
      "File \u001b[0;32mjnius/jnius_export_class.pxi:1042\u001b[0m, in \u001b[0;36mjnius.JavaMethod.call_staticmethod\u001b[0;34m()\u001b[0m\n",
      "File \u001b[0;32mjnius/jnius_utils.pxi:79\u001b[0m, in \u001b[0;36mjnius.check_exception\u001b[0;34m()\u001b[0m\n",
      "\u001b[0;31mJavaException\u001b[0m: JVM exception occurred: No IndexLoaders were supported for indexref /tmp/index; It may be your ref has the wrong location. Alternatively, Terrier is misconfigured - did you import the correct package to deal with this indexref? java.lang.UnsupportedOperationException"
     ]
    }
   ],
   "source": [
    "index = pt.IndexFactory.of('/tmp/index2')"
   ]
  },
  {
   "cell_type": "code",
   "execution_count": null,
   "metadata": {},
   "outputs": [],
   "source": [
    "docs_retrieved_by_bm25 = {}\n",
    "\n",
    "bm25_result = bm25(pt_dataset.get_topics('title'))\n",
    "\n",
    "for _, i in tqdm(bm25_result.iterrows()):\n",
    "    qid, docno = str(i['qid']), str(i['docno'])\n",
    "\n",
    "    if qid not in docs_retrieved_by_bm25:\n",
    "        docs_retrieved_by_bm25[qid] = set()\n",
    "    \n",
    "    docs_retrieved_by_bm25[qid].add(docno)"
   ]
  },
  {
   "cell_type": "code",
   "execution_count": null,
   "metadata": {},
   "outputs": [],
   "source": [
    "omit_already_retrieved_docs = lambda i: i[i.apply(lambda j: str(j['docno']) not in docs_retrieved_by_bm25[str(j['qid'])], axis=1)]\n",
    "omit_already_retrieved_docs = pt.apply.generic(omit_already_retrieved_docs)"
   ]
  },
  {
   "cell_type": "code",
   "execution_count": null,
   "metadata": {},
   "outputs": [],
   "source": [
    "bm25_doct5query = pt.BatchRetrieve(index, wmodel=\"BM25\")\n",
    "\n",
    "bm25_doct5query_new = bm25_doct5query >> omit_already_retrieved_docs"
   ]
  },
  {
   "cell_type": "markdown",
   "metadata": {},
   "source": [
    "\n",
    "## Stopword removal\n",
    "> https://github.com/tira-io/teaching-ir-with-shared-tasks/blob/main/tutorials/tutorial-stopword-lists.ipynb"
   ]
  },
  {
   "cell_type": "code",
   "execution_count": null,
   "metadata": {},
   "outputs": [],
   "source": [
    "# does not work yet because I have no idea how to access the documents in the dataset\n",
    "\"\"\"def create_index(documents, stopwords):\n",
    "    indexer = pt.IterDictIndexer(\"/tmp/index\", overwrite=True, meta={'docno': 100, 'text': 20480}, stopwords=stopwords)\n",
    "    index_ref = indexer.index(documents)\n",
    "    return pt.IndexFactory.of(index_ref)\n",
    "\n",
    "index = create_index(documents, stopwords=['the','he','she','it','they','them','their'])\"\"\""
   ]
  },
  {
   "cell_type": "code",
   "execution_count": null,
   "metadata": {},
   "outputs": [],
   "source": [
    "# bm25 = pt.BatchRetrieve(index, wmodel=\"BM25\")"
   ]
  },
  {
   "cell_type": "markdown",
   "metadata": {},
   "source": [
    "## Bo1 Query Expansion\n",
    "> https://github.com/tira-io/teaching-ir-with-shared-tasks/blob/main/tutorials/tutorial-query-expansion.ipynb"
   ]
  },
  {
   "cell_type": "code",
   "execution_count": null,
   "metadata": {},
   "outputs": [],
   "source": [
    "bo1_expansion = bm25_doct5query_new >> pt.rewrite.Bo1QueryExpansion(index)"
   ]
  },
  {
   "cell_type": "code",
   "execution_count": null,
   "metadata": {},
   "outputs": [],
   "source": [
    "# build final pipeline for retrieval\n",
    "bm25_bo1 = bo1_expansion >> bm25"
   ]
  },
  {
   "cell_type": "code",
   "execution_count": 23,
   "metadata": {},
   "outputs": [
    {
     "data": {
      "text/html": [
       "<div>\n",
       "<style scoped>\n",
       "    .dataframe tbody tr th:only-of-type {\n",
       "        vertical-align: middle;\n",
       "    }\n",
       "\n",
       "    .dataframe tbody tr th {\n",
       "        vertical-align: top;\n",
       "    }\n",
       "\n",
       "    .dataframe thead th {\n",
       "        text-align: right;\n",
       "    }\n",
       "</style>\n",
       "<table border=\"1\" class=\"dataframe\">\n",
       "  <thead>\n",
       "    <tr style=\"text-align: right;\">\n",
       "      <th></th>\n",
       "      <th>qid</th>\n",
       "      <th>docid</th>\n",
       "      <th>docno</th>\n",
       "      <th>rank</th>\n",
       "      <th>score</th>\n",
       "      <th>query_0</th>\n",
       "      <th>query</th>\n",
       "    </tr>\n",
       "  </thead>\n",
       "  <tbody>\n",
       "    <tr>\n",
       "      <th>0</th>\n",
       "      <td>1</td>\n",
       "      <td>84088</td>\n",
       "      <td>2003.sigirconf_conference-2003.30</td>\n",
       "      <td>0</td>\n",
       "      <td>18.226092</td>\n",
       "      <td>query expansion</td>\n",
       "      <td>applypipeline:off queri^1.154975233 expans^1.4...</td>\n",
       "    </tr>\n",
       "    <tr>\n",
       "      <th>1</th>\n",
       "      <td>1</td>\n",
       "      <td>82474</td>\n",
       "      <td>1998.sigirconf_conference-98.17</td>\n",
       "      <td>1</td>\n",
       "      <td>17.993732</td>\n",
       "      <td>query expansion</td>\n",
       "      <td>applypipeline:off queri^1.154975233 expans^1.4...</td>\n",
       "    </tr>\n",
       "    <tr>\n",
       "      <th>2</th>\n",
       "      <td>1</td>\n",
       "      <td>96536</td>\n",
       "      <td>2001.cikm_conference-2001.24</td>\n",
       "      <td>2</td>\n",
       "      <td>17.926357</td>\n",
       "      <td>query expansion</td>\n",
       "      <td>applypipeline:off queri^1.154975233 expans^1.4...</td>\n",
       "    </tr>\n",
       "    <tr>\n",
       "      <th>3</th>\n",
       "      <td>1</td>\n",
       "      <td>74419</td>\n",
       "      <td>2005.ntcir_workshop-2005.58</td>\n",
       "      <td>3</td>\n",
       "      <td>17.115286</td>\n",
       "      <td>query expansion</td>\n",
       "      <td>applypipeline:off queri^1.154975233 expans^1.4...</td>\n",
       "    </tr>\n",
       "    <tr>\n",
       "      <th>4</th>\n",
       "      <td>1</td>\n",
       "      <td>101016</td>\n",
       "      <td>2004.spire_conference-2004.4</td>\n",
       "      <td>4</td>\n",
       "      <td>17.019983</td>\n",
       "      <td>query expansion</td>\n",
       "      <td>applypipeline:off queri^1.154975233 expans^1.4...</td>\n",
       "    </tr>\n",
       "    <tr>\n",
       "      <th>5</th>\n",
       "      <td>1</td>\n",
       "      <td>124131</td>\n",
       "      <td>2007.ipm_journal-ir0volumeA43A4.1</td>\n",
       "      <td>5</td>\n",
       "      <td>17.007919</td>\n",
       "      <td>query expansion</td>\n",
       "      <td>applypipeline:off queri^1.154975233 expans^1.4...</td>\n",
       "    </tr>\n",
       "    <tr>\n",
       "      <th>6</th>\n",
       "      <td>1</td>\n",
       "      <td>126479</td>\n",
       "      <td>2001.tois_journal-ir0volumeA19A1.0</td>\n",
       "      <td>6</td>\n",
       "      <td>16.980183</td>\n",
       "      <td>query expansion</td>\n",
       "      <td>applypipeline:off queri^1.154975233 expans^1.4...</td>\n",
       "    </tr>\n",
       "    <tr>\n",
       "      <th>7</th>\n",
       "      <td>1</td>\n",
       "      <td>69797</td>\n",
       "      <td>2021.ccl-1.84</td>\n",
       "      <td>7</td>\n",
       "      <td>16.809470</td>\n",
       "      <td>query expansion</td>\n",
       "      <td>applypipeline:off queri^1.154975233 expans^1.4...</td>\n",
       "    </tr>\n",
       "    <tr>\n",
       "      <th>8</th>\n",
       "      <td>1</td>\n",
       "      <td>38272</td>\n",
       "      <td>C10-2007</td>\n",
       "      <td>8</td>\n",
       "      <td>16.790618</td>\n",
       "      <td>query expansion</td>\n",
       "      <td>applypipeline:off queri^1.154975233 expans^1.4...</td>\n",
       "    </tr>\n",
       "    <tr>\n",
       "      <th>9</th>\n",
       "      <td>1</td>\n",
       "      <td>108448</td>\n",
       "      <td>2002.wwwconf_conference-2002.32</td>\n",
       "      <td>9</td>\n",
       "      <td>16.784934</td>\n",
       "      <td>query expansion</td>\n",
       "      <td>applypipeline:off queri^1.154975233 expans^1.4...</td>\n",
       "    </tr>\n",
       "  </tbody>\n",
       "</table>\n",
       "</div>"
      ],
      "text/plain": [
       "  qid   docid                               docno  rank      score  \\\n",
       "0   1   84088   2003.sigirconf_conference-2003.30     0  18.226092   \n",
       "1   1   82474     1998.sigirconf_conference-98.17     1  17.993732   \n",
       "2   1   96536        2001.cikm_conference-2001.24     2  17.926357   \n",
       "3   1   74419         2005.ntcir_workshop-2005.58     3  17.115286   \n",
       "4   1  101016        2004.spire_conference-2004.4     4  17.019983   \n",
       "5   1  124131   2007.ipm_journal-ir0volumeA43A4.1     5  17.007919   \n",
       "6   1  126479  2001.tois_journal-ir0volumeA19A1.0     6  16.980183   \n",
       "7   1   69797                       2021.ccl-1.84     7  16.809470   \n",
       "8   1   38272                            C10-2007     8  16.790618   \n",
       "9   1  108448     2002.wwwconf_conference-2002.32     9  16.784934   \n",
       "\n",
       "           query_0                                              query  \n",
       "0  query expansion  applypipeline:off queri^1.154975233 expans^1.4...  \n",
       "1  query expansion  applypipeline:off queri^1.154975233 expans^1.4...  \n",
       "2  query expansion  applypipeline:off queri^1.154975233 expans^1.4...  \n",
       "3  query expansion  applypipeline:off queri^1.154975233 expans^1.4...  \n",
       "4  query expansion  applypipeline:off queri^1.154975233 expans^1.4...  \n",
       "5  query expansion  applypipeline:off queri^1.154975233 expans^1.4...  \n",
       "6  query expansion  applypipeline:off queri^1.154975233 expans^1.4...  \n",
       "7  query expansion  applypipeline:off queri^1.154975233 expans^1.4...  \n",
       "8  query expansion  applypipeline:off queri^1.154975233 expans^1.4...  \n",
       "9  query expansion  applypipeline:off queri^1.154975233 expans^1.4...  "
      ]
     },
     "execution_count": 23,
     "metadata": {},
     "output_type": "execute_result"
    }
   ],
   "source": [
    "bm25_bo1.search('query expansion').head(10)"
   ]
  },
  {
   "cell_type": "markdown",
   "metadata": {},
   "source": [
    "## Evaluation"
   ]
  },
  {
   "cell_type": "code",
   "execution_count": 21,
   "metadata": {},
   "outputs": [
    {
     "ename": "NameError",
     "evalue": "name 'bm25_doct5query_new' is not defined",
     "output_type": "error",
     "traceback": [
      "\u001b[0;31m---------------------------------------------------------------------------\u001b[0m",
      "\u001b[0;31mNameError\u001b[0m                                 Traceback (most recent call last)",
      "Cell \u001b[0;32mIn[21], line 3\u001b[0m\n\u001b[1;32m      1\u001b[0m \u001b[38;5;66;03m## actually no clue what this means\u001b[39;00m\n\u001b[1;32m      2\u001b[0m pt\u001b[38;5;241m.\u001b[39mExperiment(\n\u001b[0;32m----> 3\u001b[0m     retr_systems\u001b[38;5;241m=\u001b[39m[bm25_bo1,\u001b[43mbm25_doct5query_new\u001b[49m,bm25],\n\u001b[1;32m      4\u001b[0m     topics\u001b[38;5;241m=\u001b[39mpt_dataset\u001b[38;5;241m.\u001b[39mget_topics(\u001b[38;5;124m'\u001b[39m\u001b[38;5;124mtext\u001b[39m\u001b[38;5;124m'\u001b[39m),\n\u001b[1;32m      5\u001b[0m     qrels\u001b[38;5;241m=\u001b[39mpt_dataset\u001b[38;5;241m.\u001b[39mget_qrels(),\n\u001b[1;32m      6\u001b[0m     names\u001b[38;5;241m=\u001b[39m[\u001b[38;5;124m'\u001b[39m\u001b[38;5;124mBM25-Bo1-docT5query\u001b[39m\u001b[38;5;124m'\u001b[39m,\u001b[38;5;124m'\u001b[39m\u001b[38;5;124mBM25-docT5-query\u001b[39m\u001b[38;5;124m'\u001b[39m,\u001b[38;5;124m'\u001b[39m\u001b[38;5;124mBM25\u001b[39m\u001b[38;5;124m'\u001b[39m],\n\u001b[1;32m      7\u001b[0m     eval_metrics\u001b[38;5;241m=\u001b[39m[\u001b[38;5;124m'\u001b[39m\u001b[38;5;124mrecall_1000\u001b[39m\u001b[38;5;124m'\u001b[39m,\u001b[38;5;124m'\u001b[39m\u001b[38;5;124mrecip_rank\u001b[39m\u001b[38;5;124m'\u001b[39m,\u001b[38;5;124m'\u001b[39m\u001b[38;5;124mmap\u001b[39m\u001b[38;5;124m'\u001b[39m]\n\u001b[1;32m      8\u001b[0m )\n",
      "\u001b[0;31mNameError\u001b[0m: name 'bm25_doct5query_new' is not defined"
     ]
    }
   ],
   "source": [
    "## actually no clue what this means\n",
    "pt.Experiment(\n",
    "    retr_systems=[bm25_bo1,bm25_doct5query_new,bm25],\n",
    "    topics=pt_dataset.get_topics('text'),\n",
    "    qrels=pt_dataset.get_qrels(),\n",
    "    names=['BM25-Bo1-docT5query','BM25-docT5-query','BM25'],\n",
    "    eval_metrics=['recall_1000','recip_rank','map']\n",
    ")"
   ]
  }
 ],
 "metadata": {
  "kernelspec": {
   "display_name": "Python 3",
   "language": "python",
   "name": "python3"
  },
  "language_info": {
   "codemirror_mode": {
    "name": "ipython",
    "version": 3
   },
   "file_extension": ".py",
   "mimetype": "text/x-python",
   "name": "python",
   "nbconvert_exporter": "python",
   "pygments_lexer": "ipython3",
   "version": "3.10.12"
  }
 },
 "nbformat": 4,
 "nbformat_minor": 2
}
